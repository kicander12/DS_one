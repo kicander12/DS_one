{
    "nbformat_minor": 1, 
    "cells": [
        {
            "execution_count": 13, 
            "cell_type": "code", 
            "metadata": {}, 
            "outputs": [], 
            "source": "import ibm_db"
        }, 
        {
            "execution_count": 14, 
            "cell_type": "code", 
            "metadata": {}, 
            "outputs": [], 
            "source": "#Replace the placeholder values with your actual Db2 hostname, username, and password:\ndsn_hostname = \"dashdb-txn-sbox-yp-dal09-04.services.dal.bluemix.net\"\ndsn_uid = \"mgb17542\"        \ndsn_pwd = \"dkw5hl3^qm57tf2c\"    \n\ndsn_driver = \"{IBM DB2 ODBC DRIVER}\"\ndsn_database = \"BLUDB\"          \ndsn_port = \"50000\"                \ndsn_protocol = \"TCPIP\""
        }, 
        {
            "execution_count": 15, 
            "cell_type": "code", 
            "metadata": {}, 
            "outputs": [
                {
                    "output_type": "stream", 
                    "name": "stdout", 
                    "text": "DRIVER={IBM DB2 ODBC DRIVER};DATABASE=BLUDB;HOSTNAME=dashdb-txn-sbox-yp-dal09-04.services.dal.bluemix.net;PORT=50000;PROTOCOL=TCPIP;UID=mgb17542;PWD=dkw5hl3^qm57tf2c;\n"
                }
            ], 
            "source": "#DO NOT MODIFY THIS CELL. Just RUN it with Shift + Enter\n#Create the dsn connection string\ndsn = (\n    \"DRIVER={0};\"\n    \"DATABASE={1};\"\n    \"HOSTNAME={2};\"\n    \"PORT={3};\"\n    \"PROTOCOL={4};\"\n    \"UID={5};\"\n    \"PWD={6};\").format(dsn_driver, dsn_database, dsn_hostname, dsn_port, dsn_protocol, dsn_uid, dsn_pwd)\n\n#print the connection string to check correct values are specified\nprint(dsn)"
        }, 
        {
            "execution_count": 16, 
            "cell_type": "code", 
            "metadata": {}, 
            "outputs": [
                {
                    "output_type": "stream", 
                    "name": "stdout", 
                    "text": "Connected to database:  BLUDB as user:  mgb17542 on host:  dashdb-txn-sbox-yp-dal09-04.services.dal.bluemix.net\n"
                }
            ], 
            "source": "#DO NOT MODIFY THIS CELL. Just RUN it with Shift + Enter\n#Create database connection\n\ntry:\n    conn = ibm_db.connect(dsn, \"\", \"\")\n    print (\"Connected to database: \", dsn_database, \"as user: \", dsn_uid, \"on host: \", dsn_hostname)\n\nexcept:\n    print (\"Unable to connect: \", ibm_db.conn_errormsg() )\n\n"
        }, 
        {
            "execution_count": 17, 
            "cell_type": "code", 
            "metadata": {}, 
            "outputs": [
                {
                    "output_type": "stream", 
                    "name": "stdout", 
                    "text": "DBMS_NAME:  DB2/LINUXX8664\nDBMS_VER:   11.01.0303\nDB_NAME:    BLUDB\n"
                }
            ], 
            "source": "#Retrieve Metadata for the Database Server\nserver = ibm_db.server_info(conn)\n\nprint (\"DBMS_NAME: \", server.DBMS_NAME)\nprint (\"DBMS_VER:  \", server.DBMS_VER)\nprint (\"DB_NAME:   \", server.DB_NAME)"
        }, 
        {
            "execution_count": 18, 
            "cell_type": "code", 
            "metadata": {}, 
            "outputs": [
                {
                    "output_type": "stream", 
                    "name": "stdout", 
                    "text": "DRIVER_NAME:           libdb2.a\nDRIVER_VER:            11.01.0303\nDATA_SOURCE_NAME:      BLUDB\nDRIVER_ODBC_VER:       03.51\nODBC_VER:              03.01.0000\nODBC_SQL_CONFORMANCE:  EXTENDED\nAPPL_CODEPAGE:         1208\nCONN_CODEPAGE:         1208\n"
                }
            ], 
            "source": "#Retrieve Metadata for the Database Client / Driver\nclient = ibm_db.client_info(conn)\n\nprint (\"DRIVER_NAME:          \", client.DRIVER_NAME) \nprint (\"DRIVER_VER:           \", client.DRIVER_VER)\nprint (\"DATA_SOURCE_NAME:     \", client.DATA_SOURCE_NAME)\nprint (\"DRIVER_ODBC_VER:      \", client.DRIVER_ODBC_VER)\nprint (\"ODBC_VER:             \", client.ODBC_VER)\nprint (\"ODBC_SQL_CONFORMANCE: \", client.ODBC_SQL_CONFORMANCE)\nprint (\"APPL_CODEPAGE:        \", client.APPL_CODEPAGE)\nprint (\"CONN_CODEPAGE:        \", client.CONN_CODEPAGE)"
        }, 
        {
            "execution_count": 24, 
            "cell_type": "code", 
            "metadata": {}, 
            "outputs": [
                {
                    "execution_count": 24, 
                    "metadata": {}, 
                    "data": {
                        "text/plain": "True"
                    }, 
                    "output_type": "execute_result"
                }
            ], 
            "source": "ibm_db.close(conn)"
        }, 
        {
            "execution_count": null, 
            "cell_type": "code", 
            "metadata": {}, 
            "outputs": [], 
            "source": ""
        }
    ], 
    "metadata": {
        "kernelspec": {
            "display_name": "Python 3.5", 
            "name": "python3", 
            "language": "python"
        }, 
        "language_info": {
            "mimetype": "text/x-python", 
            "nbconvert_exporter": "python", 
            "version": "3.5.5", 
            "name": "python", 
            "file_extension": ".py", 
            "pygments_lexer": "ipython3", 
            "codemirror_mode": {
                "version": 3, 
                "name": "ipython"
            }
        }
    }, 
    "nbformat": 4
}