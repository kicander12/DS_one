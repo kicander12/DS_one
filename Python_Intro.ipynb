{
    "nbformat_minor": 1, 
    "cells": [
        {
            "source": "print('Hello, Python!') ", 
            "cell_type": "code", 
            "metadata": {}, 
            "outputs": [
                {
                    "output_type": "stream", 
                    "name": "stdout", 
                    "text": "Hello, Python!\n"
                }
            ], 
            "execution_count": 1
        }, 
        {
            "source": "import sys\nprint(sys.version)", 
            "cell_type": "code", 
            "metadata": {}, 
            "outputs": [
                {
                    "output_type": "stream", 
                    "name": "stdout", 
                    "text": "3.5.5 |Anaconda, Inc.| (default, May 13 2018, 21:12:35) \n[GCC 7.2.0]\n"
                }
            ], 
            "execution_count": 2
        }, 
        {
            "source": "print('Hello, Python!') # This line prints a string", 
            "cell_type": "code", 
            "metadata": {}, 
            "outputs": [
                {
                    "output_type": "stream", 
                    "name": "stdout", 
                    "text": "Hello, Python!\n"
                }
            ], 
            "execution_count": 3
        }, 
        {
            "source": "# print the traditional hello world\nprint('hello world')", 
            "cell_type": "code", 
            "metadata": {}, 
            "outputs": [
                {
                    "output_type": "stream", 
                    "name": "stdout", 
                    "text": "hello world\n"
                }
            ], 
            "execution_count": 1
        }, 
        {
            "source": "type(1.2)", 
            "cell_type": "code", 
            "metadata": {}, 
            "outputs": [
                {
                    "output_type": "execute_result", 
                    "data": {
                        "text/plain": "float"
                    }, 
                    "execution_count": 2, 
                    "metadata": {}
                }
            ], 
            "execution_count": 2
        }, 
        {
            "source": "type(12)", 
            "cell_type": "code", 
            "metadata": {}, 
            "outputs": [
                {
                    "output_type": "execute_result", 
                    "data": {
                        "text/plain": "int"
                    }, 
                    "execution_count": 3, 
                    "metadata": {}
                }
            ], 
            "execution_count": 3
        }, 
        {
            "source": "type('hello')", 
            "cell_type": "code", 
            "metadata": {}, 
            "outputs": [
                {
                    "output_type": "execute_result", 
                    "data": {
                        "text/plain": "str"
                    }, 
                    "execution_count": 4, 
                    "metadata": {}
                }
            ], 
            "execution_count": 4
        }, 
        {
            "source": "type(2) # verify that this is an integer", 
            "cell_type": "code", 
            "metadata": {}, 
            "outputs": [
                {
                    "output_type": "execute_result", 
                    "data": {
                        "text/plain": "int"
                    }, 
                    "execution_count": 8, 
                    "metadata": {}
                }
            ], 
            "execution_count": 8
        }, 
        {
            "source": "float(2) # convert integer 2 to a float", 
            "cell_type": "code", 
            "metadata": {}, 
            "outputs": [
                {
                    "output_type": "execute_result", 
                    "data": {
                        "text/plain": "2.0"
                    }, 
                    "execution_count": 13, 
                    "metadata": {}
                }
            ], 
            "execution_count": 13
        }, 
        {
            "source": "type(float(2)) # convert integer 2 to a float and check its type", 
            "cell_type": "code", 
            "metadata": {}, 
            "outputs": [
                {
                    "output_type": "execute_result", 
                    "data": {
                        "text/plain": "float"
                    }, 
                    "execution_count": 11, 
                    "metadata": {}
                }
            ], 
            "execution_count": 11
        }, 
        {
            "source": "int(1.1) # will result in loss of information when we get rid of the decimal point", 
            "cell_type": "code", 
            "metadata": {}, 
            "outputs": [
                {
                    "output_type": "execute_result", 
                    "data": {
                        "text/plain": "1"
                    }, 
                    "execution_count": 16, 
                    "metadata": {}
                }
            ], 
            "execution_count": 16
        }, 
        {
            "source": "int('1')", 
            "cell_type": "code", 
            "metadata": {}, 
            "outputs": [
                {
                    "output_type": "execute_result", 
                    "data": {
                        "text/plain": "1"
                    }, 
                    "execution_count": 17, 
                    "metadata": {}
                }
            ], 
            "execution_count": 17
        }, 
        {
            "source": "type(True)", 
            "cell_type": "code", 
            "metadata": {}, 
            "outputs": [
                {
                    "output_type": "execute_result", 
                    "data": {
                        "text/plain": "bool"
                    }, 
                    "execution_count": 18, 
                    "metadata": {}
                }
            ], 
            "execution_count": 18
        }, 
        {
            "source": "type(False)", 
            "cell_type": "code", 
            "metadata": {}, 
            "outputs": [
                {
                    "output_type": "execute_result", 
                    "data": {
                        "text/plain": "bool"
                    }, 
                    "execution_count": 19, 
                    "metadata": {}
                }
            ], 
            "execution_count": 19
        }, 
        {
            "source": "int(1)", 
            "cell_type": "code", 
            "metadata": {}, 
            "outputs": [
                {
                    "output_type": "execute_result", 
                    "data": {
                        "text/plain": "1"
                    }, 
                    "execution_count": 20, 
                    "metadata": {}
                }
            ], 
            "execution_count": 20
        }, 
        {
            "source": "int(0)", 
            "cell_type": "code", 
            "metadata": {}, 
            "outputs": [
                {
                    "output_type": "execute_result", 
                    "data": {
                        "text/plain": "0"
                    }, 
                    "execution_count": 21, 
                    "metadata": {}
                }
            ], 
            "execution_count": 21
        }, 
        {
            "source": "int(True)", 
            "cell_type": "code", 
            "metadata": {}, 
            "outputs": [
                {
                    "output_type": "execute_result", 
                    "data": {
                        "text/plain": "1"
                    }, 
                    "execution_count": 22, 
                    "metadata": {}
                }
            ], 
            "execution_count": 22
        }, 
        {
            "source": "int(False)", 
            "cell_type": "code", 
            "metadata": {}, 
            "outputs": [
                {
                    "output_type": "execute_result", 
                    "data": {
                        "text/plain": "0"
                    }, 
                    "execution_count": 23, 
                    "metadata": {}
                }
            ], 
            "execution_count": 23
        }, 
        {
            "source": "bool(0)", 
            "cell_type": "code", 
            "metadata": {}, 
            "outputs": [
                {
                    "output_type": "execute_result", 
                    "data": {
                        "text/plain": "False"
                    }, 
                    "execution_count": 24, 
                    "metadata": {}
                }
            ], 
            "execution_count": 24
        }, 
        {
            "source": "bool(1)", 
            "cell_type": "code", 
            "metadata": {}, 
            "outputs": [
                {
                    "output_type": "execute_result", 
                    "data": {
                        "text/plain": "True"
                    }, 
                    "execution_count": 25, 
                    "metadata": {}
                }
            ], 
            "execution_count": 25
        }, 
        {
            "source": "float(True)", 
            "cell_type": "code", 
            "metadata": {}, 
            "outputs": [
                {
                    "output_type": "execute_result", 
                    "data": {
                        "text/plain": "1.0"
                    }, 
                    "execution_count": 26, 
                    "metadata": {}
                }
            ], 
            "execution_count": 26
        }, 
        {
            "source": "float(False)", 
            "cell_type": "code", 
            "metadata": {}, 
            "outputs": [
                {
                    "output_type": "execute_result", 
                    "data": {
                        "text/plain": "0.0"
                    }, 
                    "execution_count": 27, 
                    "metadata": {}
                }
            ], 
            "execution_count": 27
        }, 
        {
            "source": "total_min = 43 + 42 + 57 # total length of albums in minutes\ntotal_hr = total_min / 60 # total length of albums in hours\ntotal_hr", 
            "cell_type": "code", 
            "metadata": {}, 
            "outputs": [
                {
                    "output_type": "execute_result", 
                    "data": {
                        "text/plain": "2.3666666666666667"
                    }, 
                    "execution_count": 40, 
                    "metadata": {}
                }
            ], 
            "execution_count": 40
        }, 
        {
            "source": "Name = \"Laura\"\nName", 
            "cell_type": "code", 
            "metadata": {}, 
            "outputs": [
                {
                    "output_type": "execute_result", 
                    "data": {
                        "text/plain": "'Laura'"
                    }, 
                    "execution_count": 41, 
                    "metadata": {}
                }
            ], 
            "execution_count": 41
        }, 
        {
            "source": "print(Name[1])", 
            "cell_type": "code", 
            "metadata": {}, 
            "outputs": [
                {
                    "output_type": "stream", 
                    "name": "stdout", 
                    "text": "a\n"
                }
            ], 
            "execution_count": 42
        }, 
        {
            "source": "print(Name[3])", 
            "cell_type": "code", 
            "metadata": {}, 
            "outputs": [
                {
                    "output_type": "stream", 
                    "name": "stdout", 
                    "text": "r\n"
                }
            ], 
            "execution_count": 43
        }, 
        {
            "source": "print(Name[-1])", 
            "cell_type": "code", 
            "metadata": {}, 
            "outputs": [
                {
                    "output_type": "stream", 
                    "name": "stdout", 
                    "text": "a\n"
                }
            ], 
            "execution_count": 44
        }, 
        {
            "source": "print(Name[-4])", 
            "cell_type": "code", 
            "metadata": {}, 
            "outputs": [
                {
                    "output_type": "stream", 
                    "name": "stdout", 
                    "text": "a\n"
                }
            ], 
            "execution_count": 45
        }, 
        {
            "source": "print(Name[-5])", 
            "cell_type": "code", 
            "metadata": {}, 
            "outputs": [
                {
                    "output_type": "stream", 
                    "name": "stdout", 
                    "text": "L\n"
                }
            ], 
            "execution_count": 46
        }, 
        {
            "source": "print(Name[-3])", 
            "cell_type": "code", 
            "metadata": {}, 
            "outputs": [
                {
                    "output_type": "stream", 
                    "name": "stdout", 
                    "text": "u\n"
                }
            ], 
            "execution_count": 47
        }, 
        {
            "source": "len(\"Laura Reed\")", 
            "cell_type": "code", 
            "metadata": {}, 
            "outputs": [
                {
                    "output_type": "execute_result", 
                    "data": {
                        "text/plain": "10"
                    }, 
                    "execution_count": 48, 
                    "metadata": {}
                }
            ], 
            "execution_count": 48
        }, 
        {
            "source": "len(\"Kim Reederson\")", 
            "cell_type": "code", 
            "metadata": {}, 
            "outputs": [
                {
                    "output_type": "execute_result", 
                    "data": {
                        "text/plain": "13"
                    }, 
                    "execution_count": 49, 
                    "metadata": {}
                }
            ], 
            "execution_count": 49
        }, 
        {
            "source": "Name[0:4]", 
            "cell_type": "code", 
            "metadata": {}, 
            "outputs": [
                {
                    "output_type": "execute_result", 
                    "data": {
                        "text/plain": "'Laur'"
                    }, 
                    "execution_count": 51, 
                    "metadata": {}
                }
            ], 
            "execution_count": 51
        }, 
        {
            "source": "Name = \"Kim Reederson\"", 
            "cell_type": "code", 
            "metadata": {}, 
            "outputs": [], 
            "execution_count": 54
        }, 
        {
            "source": "Name[5:8]", 
            "cell_type": "code", 
            "metadata": {}, 
            "outputs": [
                {
                    "output_type": "execute_result", 
                    "data": {
                        "text/plain": "'eed'"
                    }, 
                    "execution_count": 55, 
                    "metadata": {}
                }
            ], 
            "execution_count": 55
        }, 
        {
            "source": "Name[::2]", 
            "cell_type": "code", 
            "metadata": {}, 
            "outputs": [
                {
                    "output_type": "execute_result", 
                    "data": {
                        "text/plain": "'KmReesn'"
                    }, 
                    "execution_count": 56, 
                    "metadata": {}
                }
            ], 
            "execution_count": 56
        }, 
        {
            "source": "Statement = Name + \" is pretty awesome\"\nStatement", 
            "cell_type": "code", 
            "metadata": {}, 
            "outputs": [
                {
                    "output_type": "execute_result", 
                    "data": {
                        "text/plain": "'Kim Reederson is pretty awesome'"
                    }, 
                    "execution_count": 59, 
                    "metadata": {}
                }
            ], 
            "execution_count": 59
        }, 
        {
            "source": "4* \" cool stuff\"", 
            "cell_type": "code", 
            "metadata": {}, 
            "outputs": [
                {
                    "output_type": "execute_result", 
                    "data": {
                        "text/plain": "' cool stuff cool stuff cool stuff cool stuff'"
                    }, 
                    "execution_count": 62, 
                    "metadata": {}
                }
            ], 
            "execution_count": 62
        }, 
        {
            "source": "Name= \"cool stuff\"\nName= Name+ \" is pretty awesome\"\nName", 
            "cell_type": "code", 
            "metadata": {}, 
            "outputs": [
                {
                    "output_type": "execute_result", 
                    "data": {
                        "text/plain": "'cool stuff is pretty awesome'"
                    }, 
                    "execution_count": 66, 
                    "metadata": {}
                }
            ], 
            "execution_count": 66
        }, 
        {
            "source": "print(\" Beast is \\n cool\")", 
            "cell_type": "code", 
            "metadata": {}, 
            "outputs": [
                {
                    "output_type": "stream", 
                    "name": "stdout", 
                    "text": " Beast is \n cool\n"
                }
            ], 
            "execution_count": 68
        }, 
        {
            "source": "print(\" Beast is \\t cool\")", 
            "cell_type": "code", 
            "metadata": {}, 
            "outputs": [
                {
                    "output_type": "stream", 
                    "name": "stdout", 
                    "text": " Beast is \t cool\n"
                }
            ], 
            "execution_count": 69
        }, 
        {
            "source": "A=(\"my cat is distracting\")\nprint(\"Before Upper: \", A)\nB=A.upper()\nprint(\"After Upper: \", B)", 
            "cell_type": "code", 
            "metadata": {}, 
            "outputs": [
                {
                    "output_type": "stream", 
                    "name": "stdout", 
                    "text": "Before Upper:  my cat is distracting\nAfter Upper:  MY CAT IS DISTRACTING\n"
                }
            ], 
            "execution_count": 70
        }, 
        {
            "source": "A=\"Booty and the fountain\"\nB=A.replace('Booty', 'Beast')\nB", 
            "cell_type": "code", 
            "metadata": {}, 
            "outputs": [
                {
                    "output_type": "execute_result", 
                    "data": {
                        "text/plain": "'Beast and the fountain'"
                    }, 
                    "execution_count": 76, 
                    "metadata": {}
                }
            ], 
            "execution_count": 76
        }, 
        {
            "source": "Name=\"Kim Reederson\"\nName.find('Re')", 
            "cell_type": "code", 
            "metadata": {}, 
            "outputs": [
                {
                    "output_type": "execute_result", 
                    "data": {
                        "text/plain": "4"
                    }, 
                    "execution_count": 77, 
                    "metadata": {}
                }
            ], 
            "execution_count": 77
        }, 
        {
            "source": "Name.find('Reed')", 
            "cell_type": "code", 
            "metadata": {}, 
            "outputs": [
                {
                    "output_type": "execute_result", 
                    "data": {
                        "text/plain": "4"
                    }, 
                    "execution_count": 78, 
                    "metadata": {}
                }
            ], 
            "execution_count": 78
        }, 
        {
            "source": "A=\"Cool\"\nprint(A[0:3])", 
            "cell_type": "code", 
            "metadata": {}, 
            "outputs": [
                {
                    "output_type": "stream", 
                    "name": "stdout", 
                    "text": "Coo\n"
                }
            ], 
            "execution_count": 81
        }, 
        {
            "source": "Name=\"Lizz\"\nprint(Name[0:2])", 
            "cell_type": "code", 
            "metadata": {}, 
            "outputs": [
                {
                    "output_type": "stream", 
                    "name": "stdout", 
                    "text": "Li\n"
                }
            ], 
            "execution_count": 85
        }, 
        {
            "source": "'1'+'2'", 
            "cell_type": "code", 
            "metadata": {}, 
            "outputs": [
                {
                    "output_type": "execute_result", 
                    "data": {
                        "text/plain": "'12'"
                    }, 
                    "execution_count": 86, 
                    "metadata": {}
                }
            ], 
            "execution_count": 86
        }, 
        {
            "source": "'1'", 
            "cell_type": "code", 
            "metadata": {}, 
            "outputs": [
                {
                    "output_type": "execute_result", 
                    "data": {
                        "text/plain": "'1'"
                    }, 
                    "execution_count": 87, 
                    "metadata": {}
                }
            ], 
            "execution_count": 87
        }, 
        {
            "source": "'2'", 
            "cell_type": "code", 
            "metadata": {}, 
            "outputs": [
                {
                    "output_type": "execute_result", 
                    "data": {
                        "text/plain": "'2'"
                    }, 
                    "execution_count": 88, 
                    "metadata": {}
                }
            ], 
            "execution_count": 88
        }, 
        {
            "source": "'1'+'3'", 
            "cell_type": "code", 
            "metadata": {}, 
            "outputs": [
                {
                    "output_type": "execute_result", 
                    "data": {
                        "text/plain": "'13'"
                    }, 
                    "execution_count": 89, 
                    "metadata": {}
                }
            ], 
            "execution_count": 89
        }, 
        {
            "source": " str(1+1)", 
            "cell_type": "code", 
            "metadata": {}, 
            "outputs": [
                {
                    "output_type": "execute_result", 
                    "data": {
                        "text/plain": "'2'"
                    }, 
                    "execution_count": 90, 
                    "metadata": {}
                }
            ], 
            "execution_count": 90
        }, 
        {
            "source": " str(1+1)", 
            "cell_type": "code", 
            "metadata": {}, 
            "outputs": [
                {
                    "output_type": "execute_result", 
                    "data": {
                        "text/plain": "'2'"
                    }, 
                    "execution_count": 91, 
                    "metadata": {}
                }
            ], 
            "execution_count": 91
        }, 
        {
            "source": "'hello'.upper()", 
            "cell_type": "code", 
            "metadata": {}, 
            "outputs": [
                {
                    "output_type": "execute_result", 
                    "data": {
                        "text/plain": "'HELLO'"
                    }, 
                    "execution_count": 92, 
                    "metadata": {}
                }
            ], 
            "execution_count": 92
        }, 
        {
            "source": "str(1)+str(1)", 
            "cell_type": "code", 
            "metadata": {}, 
            "outputs": [
                {
                    "output_type": "execute_result", 
                    "data": {
                        "text/plain": "'11'"
                    }, 
                    "execution_count": 93, 
                    "metadata": {}
                }
            ], 
            "execution_count": 93
        }, 
        {
            "source": "tuple1=(\"cats\",15,3.2)\ntuple1", 
            "cell_type": "code", 
            "metadata": {}, 
            "outputs": [
                {
                    "output_type": "execute_result", 
                    "data": {
                        "text/plain": "('cats', 15, 3.2)"
                    }, 
                    "execution_count": 1, 
                    "metadata": {}
                }
            ], 
            "execution_count": 1
        }, 
        {
            "source": "tuple1[0]", 
            "cell_type": "code", 
            "metadata": {}, 
            "outputs": [
                {
                    "output_type": "execute_result", 
                    "data": {
                        "text/plain": "'cats'"
                    }, 
                    "execution_count": 8, 
                    "metadata": {}
                }
            ], 
            "execution_count": 8
        }, 
        {
            "source": "type(tuple1)", 
            "cell_type": "code", 
            "metadata": {}, 
            "outputs": [
                {
                    "output_type": "execute_result", 
                    "data": {
                        "text/plain": "tuple"
                    }, 
                    "execution_count": 5, 
                    "metadata": {}
                }
            ], 
            "execution_count": 5
        }, 
        {
            "source": "print( tuple1[0])", 
            "cell_type": "code", 
            "metadata": {}, 
            "outputs": [
                {
                    "output_type": "stream", 
                    "name": "stdout", 
                    "text": "cats\n"
                }
            ], 
            "execution_count": 9
        }, 
        {
            "source": "print ( tuple1[1])", 
            "cell_type": "code", 
            "metadata": {}, 
            "outputs": [
                {
                    "output_type": "stream", 
                    "name": "stdout", 
                    "text": "15\n"
                }
            ], 
            "execution_count": 10
        }, 
        {
            "source": "print ( tuple1[2])", 
            "cell_type": "code", 
            "metadata": {}, 
            "outputs": [
                {
                    "output_type": "stream", 
                    "name": "stdout", 
                    "text": "3.2\n"
                }
            ], 
            "execution_count": 11
        }, 
        {
            "source": "print( type(tuple1[0]))", 
            "cell_type": "code", 
            "metadata": {}, 
            "outputs": [
                {
                    "output_type": "stream", 
                    "name": "stdout", 
                    "text": "<class 'str'>\n"
                }
            ], 
            "execution_count": 12
        }, 
        {
            "source": "print( type(tuple1[1]))", 
            "cell_type": "code", 
            "metadata": {}, 
            "outputs": [
                {
                    "output_type": "stream", 
                    "name": "stdout", 
                    "text": "<class 'int'>\n"
                }
            ], 
            "execution_count": 13
        }, 
        {
            "source": "print( type(tuple1[2]))", 
            "cell_type": "code", 
            "metadata": {}, 
            "outputs": [
                {
                    "output_type": "stream", 
                    "name": "stdout", 
                    "text": "<class 'float'>\n"
                }
            ], 
            "execution_count": 15
        }, 
        {
            "source": "tuple1[-3]", 
            "cell_type": "code", 
            "metadata": {}, 
            "outputs": [
                {
                    "output_type": "execute_result", 
                    "data": {
                        "text/plain": "'cats'"
                    }, 
                    "execution_count": 16, 
                    "metadata": {}
                }
            ], 
            "execution_count": 16
        }, 
        {
            "source": "tuple1[-1]", 
            "cell_type": "code", 
            "metadata": {}, 
            "outputs": [
                {
                    "output_type": "execute_result", 
                    "data": {
                        "text/plain": "3.2"
                    }, 
                    "execution_count": 17, 
                    "metadata": {}
                }
            ], 
            "execution_count": 17
        }, 
        {
            "source": "tuple2=tuple1 + (\"things\", 2.43)\ntuple2", 
            "cell_type": "code", 
            "metadata": {}, 
            "outputs": [
                {
                    "output_type": "execute_result", 
                    "data": {
                        "text/plain": "('cats', 15, 3.2, 'things', 2.43)"
                    }, 
                    "execution_count": 19, 
                    "metadata": {}
                }
            ], 
            "execution_count": 19
        }, 
        {
            "source": "tuple2[3:5]", 
            "cell_type": "code", 
            "metadata": {}, 
            "outputs": [
                {
                    "output_type": "execute_result", 
                    "data": {
                        "text/plain": "('things', 2.43)"
                    }, 
                    "execution_count": 20, 
                    "metadata": {}
                }
            ], 
            "execution_count": 20
        }, 
        {
            "source": "tuple2[1:3]", 
            "cell_type": "code", 
            "metadata": {}, 
            "outputs": [
                {
                    "output_type": "execute_result", 
                    "data": {
                        "text/plain": "(15, 3.2)"
                    }, 
                    "execution_count": 21, 
                    "metadata": {}
                }
            ], 
            "execution_count": 21
        }, 
        {
            "source": "tuple2[0:3]", 
            "cell_type": "code", 
            "metadata": {}, 
            "outputs": [
                {
                    "output_type": "execute_result", 
                    "data": {
                        "text/plain": "('cats', 15, 3.2)"
                    }, 
                    "execution_count": 22, 
                    "metadata": {}
                }
            ], 
            "execution_count": 22
        }, 
        {
            "source": "len(tuple2)", 
            "cell_type": "code", 
            "metadata": {}, 
            "outputs": [
                {
                    "output_type": "execute_result", 
                    "data": {
                        "text/plain": "5"
                    }, 
                    "execution_count": 23, 
                    "metadata": {}
                }
            ], 
            "execution_count": 23
        }, 
        {
            "source": "genres_tuple = (\"pop\", \"rock\", \"soul\", \"R&B\", \"punk\")\ngenres_tuple", 
            "cell_type": "code", 
            "metadata": {}, 
            "outputs": [
                {
                    "output_type": "execute_result", 
                    "data": {
                        "text/plain": "('pop', 'rock', 'soul', 'R&B', 'punk')"
                    }, 
                    "execution_count": 26, 
                    "metadata": {}
                }
            ], 
            "execution_count": 26
        }, 
        {
            "source": "len(genres_tuple)", 
            "cell_type": "code", 
            "metadata": {}, 
            "outputs": [
                {
                    "output_type": "execute_result", 
                    "data": {
                        "text/plain": "5"
                    }, 
                    "execution_count": 27, 
                    "metadata": {}
                }
            ], 
            "execution_count": 27
        }, 
        {
            "source": "len((\"disco\",10))", 
            "cell_type": "code", 
            "metadata": {}, 
            "outputs": [
                {
                    "output_type": "execute_result", 
                    "data": {
                        "text/plain": "2"
                    }, 
                    "execution_count": 28, 
                    "metadata": {}
                }
            ], 
            "execution_count": 28
        }, 
        {
            "source": "'1,2,3,4'.split(',')", 
            "cell_type": "code", 
            "metadata": {}, 
            "outputs": [
                {
                    "output_type": "execute_result", 
                    "data": {
                        "text/plain": "['1', '2', '3', '4']"
                    }, 
                    "execution_count": 29, 
                    "metadata": {}
                }
            ], 
            "execution_count": 29
        }, 
        {
            "source": "Dict={\"Dark Side of the Moon\":1973,\"Thriller\":1982,\"The Bodyguard\":1992,\"Back in Black\":1980,(0,3):1994}\nDict", 
            "cell_type": "code", 
            "metadata": {}, 
            "outputs": [
                {
                    "output_type": "execute_result", 
                    "data": {
                        "text/plain": "{'Thriller': 1982,\n 'Back in Black': 1980,\n (0, 3): 1994,\n 'The Bodyguard': 1992,\n 'Dark Side of the Moon': 1973}"
                    }, 
                    "execution_count": 16, 
                    "metadata": {}
                }
            ], 
            "execution_count": 16
        }, 
        {
            "source": "Dict[\"Thriller\"]", 
            "cell_type": "code", 
            "metadata": {}, 
            "outputs": [
                {
                    "output_type": "execute_result", 
                    "data": {
                        "text/plain": "1982"
                    }, 
                    "execution_count": 11, 
                    "metadata": {}
                }
            ], 
            "execution_count": 11
        }, 
        {
            "source": "Dict[(0,3)]", 
            "cell_type": "code", 
            "metadata": {}, 
            "outputs": [
                {
                    "output_type": "execute_result", 
                    "data": {
                        "text/plain": "1994"
                    }, 
                    "execution_count": 17, 
                    "metadata": {}
                }
            ], 
            "execution_count": 17
        }, 
        {
            "source": "release_year_dict = {\"Thriller\":\"1982\", \"Back in Black\":\"1980\", \\\n                    \"The Dark Side of the Moon\":\"1973\", \"The Bodyguard\":\"1992\", \\\n                    \"Bat Out of Hell\":\"1977\", \"Their Greatest Hits (1971-1975)\":\"1976\", \\\n                    \"Saturday Night Fever\":\"1977\", \"Rumours\":\"1977\"}\nrelease_year_dict", 
            "cell_type": "code", 
            "metadata": {}, 
            "outputs": [
                {
                    "output_type": "execute_result", 
                    "data": {
                        "text/plain": "{'Back in Black': '1980',\n 'Bat Out of Hell': '1977',\n 'Rumours': '1977',\n 'Saturday Night Fever': '1977',\n 'The Bodyguard': '1992',\n 'The Dark Side of the Moon': '1973',\n 'Their Greatest Hits (1971-1975)': '1976',\n 'Thriller': '1982'}"
                    }, 
                    "execution_count": 20, 
                    "metadata": {}
                }
            ], 
            "execution_count": 20
        }, 
        {
            "source": "release_year_dict.keys()", 
            "cell_type": "code", 
            "metadata": {}, 
            "outputs": [
                {
                    "output_type": "execute_result", 
                    "data": {
                        "text/plain": "dict_keys(['Bat Out of Hell', 'The Bodyguard', 'Back in Black', 'Rumours', 'Thriller', 'The Dark Side of the Moon', 'Saturday Night Fever', 'Their Greatest Hits (1971-1975)'])"
                    }, 
                    "execution_count": 21, 
                    "metadata": {}
                }
            ], 
            "execution_count": 21
        }, 
        {
            "source": "release_year_dict.values()", 
            "cell_type": "code", 
            "metadata": {}, 
            "outputs": [
                {
                    "output_type": "execute_result", 
                    "data": {
                        "text/plain": "dict_values(['1977', '1992', '1980', '1977', '1982', '1973', '1977', '1976'])"
                    }, 
                    "execution_count": 23, 
                    "metadata": {}
                }
            ], 
            "execution_count": 23
        }, 
        {
            "source": "release_year_dict['Chaos']=2008\nrelease_year_dict", 
            "cell_type": "code", 
            "metadata": {}, 
            "outputs": [
                {
                    "output_type": "execute_result", 
                    "data": {
                        "text/plain": "{'Back in Black': '1980',\n 'Bat Out of Hell': '1977',\n 'Chaos': 2008,\n 'Rumours': '1977',\n 'Saturday Night Fever': '1977',\n 'The Bodyguard': '1992',\n 'The Dark Side of the Moon': '1973',\n 'Their Greatest Hits (1971-1975)': '1976',\n 'Thriller': '1982'}"
                    }, 
                    "execution_count": 27, 
                    "metadata": {}
                }
            ], 
            "execution_count": 27
        }, 
        {
            "source": "del(release_year_dict['Back in Black'])\ndel(release_year_dict['Thriller'])\nrelease_year_dict", 
            "cell_type": "code", 
            "metadata": {}, 
            "outputs": [
                {
                    "output_type": "execute_result", 
                    "data": {
                        "text/plain": "{'Bat Out of Hell': '1977',\n 'Chaos': 2008,\n 'Rumours': '1977',\n 'Saturday Night Fever': '1977',\n 'The Bodyguard': '1992',\n 'The Dark Side of the Moon': '1973',\n 'Their Greatest Hits (1971-1975)': '1976'}"
                    }, 
                    "execution_count": 28, 
                    "metadata": {}
                }
            ], 
            "execution_count": 28
        }, 
        {
            "source": "'Rumours' in release_year_dict", 
            "cell_type": "code", 
            "metadata": {}, 
            "outputs": [
                {
                    "output_type": "execute_result", 
                    "data": {
                        "text/plain": "True"
                    }, 
                    "execution_count": 29, 
                    "metadata": {}
                }
            ], 
            "execution_count": 29
        }, 
        {
            "source": "'Fake Album' in release_year_dict", 
            "cell_type": "code", 
            "metadata": {}, 
            "outputs": [
                {
                    "output_type": "execute_result", 
                    "data": {
                        "text/plain": "False"
                    }, 
                    "execution_count": 30, 
                    "metadata": {}
                }
            ], 
            "execution_count": 30
        }, 
        {
            "source": "album_list =[ \"Michael Jackson\", \"Thriller\", 1982, \"00:42:19\", \\\n              \"Pop, Rock, R&B\", 46.0, 65, \"30-Nov-82\", None, 10.0]\n\nalbum_set = set(album_list)             \nalbum_set", 
            "cell_type": "code", 
            "metadata": {}, 
            "outputs": [
                {
                    "output_type": "execute_result", 
                    "data": {
                        "text/plain": "{65,\n 'Michael Jackson',\n '00:42:19',\n '30-Nov-82',\n 10.0,\n 46.0,\n None,\n 'Pop, Rock, R&B',\n 'Thriller',\n 1982}"
                    }, 
                    "execution_count": 31, 
                    "metadata": {}
                }
            ], 
            "execution_count": 31
        }, 
        {
            "source": "album_list=[\"rap\",\"house\",\"electronic music\",\"rap\"]\nalbum_set=set(album_list)\nalbum_set", 
            "cell_type": "code", 
            "metadata": {}, 
            "outputs": [
                {
                    "output_type": "execute_result", 
                    "data": {
                        "text/plain": "{'electronic music', 'house', 'rap'}"
                    }, 
                    "execution_count": 32, 
                    "metadata": {}
                }
            ], 
            "execution_count": 32
        }, 
        {
            "source": "A=[1,2,2,1]\nB=set([1,2,2,1])\nprint(\"the sum of A is:\",sum(A))\nprint(\"the sum of B is:\",sum(B))", 
            "cell_type": "code", 
            "metadata": {}, 
            "outputs": [
                {
                    "output_type": "stream", 
                    "name": "stdout", 
                    "text": "the sum of A is: 6\nthe sum of B is: 3\n"
                }
            ], 
            "execution_count": 33
        }, 
        {
            "source": "A = set([\"Thriller\",\"Back in Black\", \"AC/DC\"] )\nA.add(\"Wish You Were Here\")\nA", 
            "cell_type": "code", 
            "metadata": {}, 
            "outputs": [
                {
                    "output_type": "execute_result", 
                    "data": {
                        "text/plain": "{'AC/DC', 'Back in Black', 'Thriller', 'Wish You Were Here'}"
                    }, 
                    "execution_count": 40, 
                    "metadata": {}
                }
            ], 
            "execution_count": 40
        }, 
        {
            "source": "A.remove(\"AC/DC\")\nA", 
            "cell_type": "code", 
            "metadata": {}, 
            "outputs": [
                {
                    "output_type": "execute_result", 
                    "data": {
                        "text/plain": "{'Back in Black', 'Thriller', 'Wish You Were Here'}"
                    }, 
                    "execution_count": 41, 
                    "metadata": {}
                }
            ], 
            "execution_count": 41
        }, 
        {
            "source": "\"Back in Black\" in A", 
            "cell_type": "code", 
            "metadata": {}, 
            "outputs": [
                {
                    "output_type": "execute_result", 
                    "data": {
                        "text/plain": "True"
                    }, 
                    "execution_count": 42, 
                    "metadata": {}
                }
            ], 
            "execution_count": 42
        }, 
        {
            "source": "album_set1 = set([\"Thriller\",'AC/DC', 'Back in Black'] )\nalbum_set2 = set([ \"AC/DC\",\"Back in Black\", \"The Dark Side of the Moon\"] )\nalbum_set1,album_set2", 
            "cell_type": "code", 
            "metadata": {}, 
            "outputs": [
                {
                    "output_type": "execute_result", 
                    "data": {
                        "text/plain": "({'AC/DC', 'Back in Black', 'Thriller'},\n {'AC/DC', 'Back in Black', 'The Dark Side of the Moon'})"
                    }, 
                    "execution_count": 43, 
                    "metadata": {}
                }
            ], 
            "execution_count": 43
        }, 
        {
            "source": "album_set3 = album_set1 & album_set2\nalbum_set3", 
            "cell_type": "code", 
            "metadata": {}, 
            "outputs": [
                {
                    "output_type": "execute_result", 
                    "data": {
                        "text/plain": "{'AC/DC', 'Back in Black'}"
                    }, 
                    "execution_count": 46, 
                    "metadata": {}
                }
            ], 
            "execution_count": 46
        }, 
        {
            "source": "album_set1.difference(album_set2)", 
            "cell_type": "code", 
            "metadata": {}, 
            "outputs": [
                {
                    "output_type": "execute_result", 
                    "data": {
                        "text/plain": "{'Thriller'}"
                    }, 
                    "execution_count": 47, 
                    "metadata": {}
                }
            ], 
            "execution_count": 47
        }, 
        {
            "source": "album_set1.intersection(album_set2)", 
            "cell_type": "code", 
            "metadata": {}, 
            "outputs": [
                {
                    "output_type": "execute_result", 
                    "data": {
                        "text/plain": "{'AC/DC', 'Back in Black'}"
                    }, 
                    "execution_count": 48, 
                    "metadata": {}
                }
            ], 
            "execution_count": 48
        }, 
        {
            "source": "album_set1.union(album_set2)", 
            "cell_type": "code", 
            "metadata": {}, 
            "outputs": [
                {
                    "output_type": "execute_result", 
                    "data": {
                        "text/plain": "{'AC/DC', 'Back in Black', 'The Dark Side of the Moon', 'Thriller'}"
                    }, 
                    "execution_count": 49, 
                    "metadata": {}
                }
            ], 
            "execution_count": 49
        }, 
        {
            "source": "set({\"Back in Black\", \"AC/DC\"}).issubset(album_set1) ", 
            "cell_type": "code", 
            "metadata": {}, 
            "outputs": [
                {
                    "output_type": "execute_result", 
                    "data": {
                        "text/plain": "True"
                    }, 
                    "execution_count": 50, 
                    "metadata": {}
                }
            ], 
            "execution_count": 50
        }, 
        {
            "source": "album_set1.issubset(album_set3)", 
            "cell_type": "code", 
            "metadata": {}, 
            "outputs": [
                {
                    "output_type": "execute_result", 
                    "data": {
                        "text/plain": "False"
                    }, 
                    "execution_count": 51, 
                    "metadata": {}
                }
            ], 
            "execution_count": 51
        }, 
        {
            "source": "age=19\n#age=18\n\n#expression that can be true or false\nif age>18:\n    \n    #within an indent, we have the expression that is run if the condition is true\n    print(\"you can enter\" )\n\n\n#The statements after the if statement will run regardless if the condition is true or false \nprint(\"move on\")\n\n", 
            "cell_type": "code", 
            "metadata": {}, 
            "outputs": [
                {
                    "output_type": "stream", 
                    "name": "stdout", 
                    "text": "you can enter\nmove on\n"
                }
            ], 
            "execution_count": 52
        }, 
        {
            "source": "age=18\n#age=19\nif age>18:\n    \n    print(\"you can enter\" )\n \nelse:\n    print(\"go see Meat Loaf\" )\n    \n\nprint(\"move on\")", 
            "cell_type": "code", 
            "metadata": {}, 
            "outputs": [
                {
                    "output_type": "stream", 
                    "name": "stdout", 
                    "text": "go see Meat Loaf\nmove on\n"
                }
            ], 
            "execution_count": 53
        }, 
        {
            "source": "age=18\nif age>18:\n    \n    print(\"you can enter\" )\nelif age==18:\n    print(\"go see Pink Floyd\")\nelse:\n    print(\"go see Meat Loaf\" )\n    \n\nprint(\"move on\")", 
            "cell_type": "code", 
            "metadata": {}, 
            "outputs": [
                {
                    "output_type": "stream", 
                    "name": "stdout", 
                    "text": "go see Pink Floyd\nmove on\n"
                }
            ], 
            "execution_count": 54
        }, 
        {
            "source": "album_year = 1981\nif album_year > 1980:\n    print(\"Album year is greater than 1980\")\n    \nprint(\"\")\nprint('do something..')", 
            "cell_type": "code", 
            "metadata": {}, 
            "outputs": [
                {
                    "output_type": "stream", 
                    "name": "stdout", 
                    "text": "Album year is greater than 1980\n\ndo something..\n"
                }
            ], 
            "execution_count": 60
        }, 
        {
            "source": "album_rating = 8.5\n# try with this value\nif album_rating > 8:\n    print (\"this album is amazing\")\nelse:\n    print (\"this album is ok\")", 
            "cell_type": "code", 
            "metadata": {}, 
            "outputs": [
                {
                    "output_type": "stream", 
                    "name": "stdout", 
                    "text": "this album is amazing\n"
                }
            ], 
            "execution_count": 61
        }, 
        {
            "source": "album_year = 1980\n\nif(album_year > 1979) and (album_year < 1990):\n    print (\"Album year was in between 1981 and 1989\")\n    \nprint(\"\")\nprint(\"Do Stuff..\")", 
            "cell_type": "code", 
            "metadata": {}, 
            "outputs": [
                {
                    "output_type": "stream", 
                    "name": "stdout", 
                    "text": "Album year was in between 1981 and 1989\n\nDo Stuff..\n"
                }
            ], 
            "execution_count": 62
        }, 
        {
            "source": "album_year = 1990\n\nif(album_year < 1980) or (album_year > 1989):\n    print (\"Album was not made in the 1980's\")\nelse:\n    print(\"The Album was made in the 1980's \")", 
            "cell_type": "code", 
            "metadata": {}, 
            "outputs": [
                {
                    "output_type": "stream", 
                    "name": "stdout", 
                    "text": "Album was not made in the 1980's\n"
                }
            ], 
            "execution_count": 67
        }, 
        {
            "source": "album_year = 1983\n\nif not (album_year == '1984'):\n    print (\"Album year is not 1984\")", 
            "cell_type": "code", 
            "metadata": {}, 
            "outputs": [
                {
                    "output_type": "stream", 
                    "name": "stdout", 
                    "text": "Album year is not 1984\n"
                }
            ], 
            "execution_count": 68
        }, 
        {
            "source": "album_year = 1991\nif (album_year<1980) or (album_year==1991) or (album_year==1993):\n    print(\"the year is\",album_year)", 
            "cell_type": "code", 
            "metadata": {}, 
            "outputs": [
                {
                    "output_type": "stream", 
                    "name": "stdout", 
                    "text": "the year is 1991\n"
                }
            ], 
            "execution_count": 69
        }, 
        {
            "source": "dates = [1982,1980,1973]\nN=len(dates)\n\nfor i in range(N):\n     \n    print(dates[i])  ", 
            "cell_type": "code", 
            "metadata": {}, 
            "outputs": [
                {
                    "output_type": "stream", 
                    "name": "stdout", 
                    "text": "1982\n1980\n1973\n"
                }
            ], 
            "execution_count": 1
        }, 
        {
            "source": "for i in range(0,8):\n    print(i)", 
            "cell_type": "code", 
            "metadata": {}, 
            "outputs": [
                {
                    "output_type": "stream", 
                    "name": "stdout", 
                    "text": "0\n1\n2\n3\n4\n5\n6\n7\n"
                }
            ], 
            "execution_count": 6
        }, 
        {
            "source": "for i in range(-5,6):\n    print(i)", 
            "cell_type": "code", 
            "metadata": {}, 
            "outputs": [
                {
                    "output_type": "stream", 
                    "name": "stdout", 
                    "text": "-5\n-4\n-3\n-2\n-1\n0\n1\n2\n3\n4\n5\n"
                }
            ], 
            "execution_count": 9
        }, 
        {
            "source": "for year in dates:\n    print(year)", 
            "cell_type": "code", 
            "metadata": {}, 
            "outputs": [
                {
                    "output_type": "stream", 
                    "name": "stdout", 
                    "text": "1982\n1980\n1973\n"
                }
            ], 
            "execution_count": 10
        }, 
        {
            "source": "squares=['red','yellow','green','purple','blue','orange']\n\nfor i in range(0,6):\n    print(\"Before square \",i, 'is',  squares[i])\n    \n    squares[i]='white'\n    \n    print(\"After square \",i, 'is',  squares[i])\n    \n    \n    ", 
            "cell_type": "code", 
            "metadata": {}, 
            "outputs": [
                {
                    "output_type": "stream", 
                    "name": "stdout", 
                    "text": "Before square  0 is red\nAfter square  0 is white\nBefore square  1 is yellow\nAfter square  1 is white\nBefore square  2 is green\nAfter square  2 is white\nBefore square  3 is purple\nAfter square  3 is white\nBefore square  4 is blue\nAfter square  4 is white\nBefore square  5 is orange\nAfter square  5 is white\n"
                }
            ], 
            "execution_count": 14
        }, 
        {
            "source": "squares=['red','yellow','green','purple','blue','orange']\n\nfor i,square in enumerate(squares): # access the index and the elements of a given sequence\n    print(i,square)", 
            "cell_type": "code", 
            "metadata": {}, 
            "outputs": [
                {
                    "output_type": "stream", 
                    "name": "stdout", 
                    "text": "0 red\n1 yellow\n2 green\n3 purple\n4 blue\n5 orange\n"
                }
            ], 
            "execution_count": 33
        }, 
        {
            "source": "dates = [1982,1980,1973,2000]\n\ni=0;\nyear=0\nwhile(year!=2000):\n    year=dates[i]\n    i=i+1\n    print(year)\n    \n    \nprint(\"it took\", i ,\"repetitions to get out of loop\")", 
            "cell_type": "code", 
            "metadata": {}, 
            "outputs": [
                {
                    "output_type": "stream", 
                    "name": "stdout", 
                    "text": "1982\n1980\n1973\n2000\nit took 4 repetitions to get out of loop\n"
                }
            ], 
            "execution_count": 32
        }, 
        {
            "source": "A=['1','2','3','5']\n\nfor a in A:\n    print(3*a)", 
            "cell_type": "code", 
            "metadata": {}, 
            "outputs": [
                {
                    "output_type": "stream", 
                    "name": "stdout", 
                    "text": "111\n222\n333\n555\n"
                }
            ], 
            "execution_count": 38
        }, 
        {
            "source": "x=0\nwhile(x<2):\n  print(x)\n  x=x+1", 
            "cell_type": "code", 
            "metadata": {}, 
            "outputs": [
                {
                    "output_type": "stream", 
                    "name": "stdout", 
                    "text": "0\n1\n"
                }
            ], 
            "execution_count": 34
        }, 
        {
            "source": "for i in range(1,5):\n    if (i!=2):\n        print(i)", 
            "cell_type": "code", 
            "metadata": {}, 
            "outputs": [
                {
                    "output_type": "stream", 
                    "name": "stdout", 
                    "text": "1\n3\n4\n"
                }
            ], 
            "execution_count": 35
        }, 
        {
            "source": "for i,x in enumerate(['A','B','C']):\n    print(i+1,x)", 
            "cell_type": "code", 
            "metadata": {}, 
            "outputs": [
                {
                    "output_type": "stream", 
                    "name": "stdout", 
                    "text": "1 A\n2 B\n3 C\n"
                }
            ], 
            "execution_count": 42
        }, 
        {
            "source": "squares=['orange','orange','purple','blue ','orange'] \nnew_squares=[];\n\ni=0\nwhile(squares[i]=='orange'): #exit loop if value is not orange\n    new_squares.append(squares[i])\n    i=i+1\n    \nprint(new_squares)", 
            "cell_type": "code", 
            "metadata": {}, 
            "outputs": [
                {
                    "output_type": "stream", 
                    "name": "stdout", 
                    "text": "['orange', 'orange']\n"
                }
            ], 
            "execution_count": 43
        }, 
        {
            "source": "def Print(A):\n    for a in A:\n        print(a+'1')\n        \nPrint(['a','b','c'])", 
            "cell_type": "code", 
            "metadata": {}, 
            "outputs": [
                {
                    "output_type": "stream", 
                    "name": "stdout", 
                    "text": "a1\nb1\nc1\n"
                }
            ], 
            "execution_count": 1
        }, 
        {
            "source": "", 
            "cell_type": "code", 
            "metadata": {}, 
            "outputs": [], 
            "execution_count": null
        }
    ], 
    "metadata": {
        "kernelspec": {
            "display_name": "Python 3.5", 
            "name": "python3", 
            "language": "python"
        }, 
        "language_info": {
            "mimetype": "text/x-python", 
            "nbconvert_exporter": "python", 
            "version": "3.5.5", 
            "name": "python", 
            "pygments_lexer": "ipython3", 
            "file_extension": ".py", 
            "codemirror_mode": {
                "version": 3, 
                "name": "ipython"
            }
        }
    }, 
    "nbformat": 4
}